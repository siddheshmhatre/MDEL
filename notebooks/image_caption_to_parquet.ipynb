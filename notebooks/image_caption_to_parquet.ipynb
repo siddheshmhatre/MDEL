{
 "cells": [
  {
   "cell_type": "code",
   "execution_count": 45,
   "metadata": {},
   "outputs": [],
   "source": [
    "import boto3\n",
    "import io\n",
    "import json\n",
    "import os\n",
    "import pandas as pd\n",
    "from tqdm import tqdm\n",
    "pd.set_option('display.max_colwidth', 100)"
   ]
  },
  {
   "attachments": {},
   "cell_type": "markdown",
   "metadata": {},
   "source": [
    "### Functions to get shards from s3"
   ]
  },
  {
   "cell_type": "code",
   "execution_count": 8,
   "metadata": {},
   "outputs": [],
   "source": [
    "def read_parquet_from_s3(filepath, bucket='s-laion', s3=boto3.resource('s3')):\n",
    "    buffer = io.BytesIO()\n",
    "    object = s3.Object(bucket, filepath)\n",
    "    object.download_fileobj(buffer)\n",
    "    df = pd.read_parquet(buffer)\n",
    "\n",
    "    return df\n",
    "\n",
    "def get_filepaths(bucket='s-laion', prefix=\"vit-h-14-embeddings/metadata\", s3=boto3.resource('s3')):\n",
    "    bucket = s3.Bucket(bucket)\n",
    "    filepaths = [obj.key for obj in bucket.objects.filter(Prefix=prefix)]\n",
    "\n",
    "    return filepaths"
   ]
  },
  {
   "cell_type": "code",
   "execution_count": 42,
   "metadata": {},
   "outputs": [],
   "source": [
    "filepaths = get_filepaths()\n",
    "index = 10\n",
    "output_dir = \"/fsx/home-siddhesh1793/data/laion_2b_jsonl\"\n",
    "output_filename = filepaths[index].split('/')[-1].replace(\"parquet\", \"jsonl\")\n",
    "dataset_name = \"laion_2b\""
   ]
  },
  {
   "cell_type": "code",
   "execution_count": 56,
   "metadata": {},
   "outputs": [],
   "source": [
    "df = read_parquet_from_s3(filepaths[index])"
   ]
  },
  {
   "cell_type": "code",
   "execution_count": 65,
   "metadata": {},
   "outputs": [],
   "source": [
    "def convert_parquet_to_jsonl(df, output_dir, output_filename, dataset_name):\n",
    "\tdf['text_list'] = df['caption'].apply(lambda x: [\"This\",  f\"has the caption {x}\"])\n",
    "\tdf['image_info'] = df.apply(lambda x: [{\"image_name\": x['key'], \"raw_url\": x['url'], \"matched_text_index\": 1, \"NSFW\": x['NSFW'], \"similarity_matrix\": [x['similarity']], \"width\": x['width'], \"height\": x['height']}], axis=1)\n",
    "\tdf[\"shard_index\"] = index\n",
    "\tdf[\"index\"] = df.reset_index().index\n",
    "\tdf[\"dataset\"] = dataset_name\n",
    "\tdf[\"modality\"] = \"image\"\n",
    "\tdf = df[['text_list', 'image_info', 'shard_index', 'index', 'dataset', 'modality']]\n",
    "\tjson_df = json.loads(df.to_json(orient=\"records\"))\n",
    "\twith open(os.path.join(output_dir, output_filename), 'w') as outfile:\n",
    "\t\tfor entry in tqdm(json_df):\n",
    "\t\t\tjson.dump(entry, outfile)\n",
    "\t\t\toutfile.write('\\n')"
   ]
  },
  {
   "cell_type": "code",
   "execution_count": 66,
   "metadata": {},
   "outputs": [
    {
     "name": "stderr",
     "output_type": "stream",
     "text": [
      "100%|██████████| 10/10 [00:00<00:00, 4778.20it/s]\n"
     ]
    }
   ],
   "source": [
    "convert_parquet_to_jsonl(df, output_dir, output_filename, dataset_name)"
   ]
  }
 ],
 "metadata": {
  "kernelspec": {
   "display_name": ".venv",
   "language": "python",
   "name": "python3"
  },
  "language_info": {
   "codemirror_mode": {
    "name": "ipython",
    "version": 3
   },
   "file_extension": ".py",
   "mimetype": "text/x-python",
   "name": "python",
   "nbconvert_exporter": "python",
   "pygments_lexer": "ipython3",
   "version": "3.8.15"
  },
  "orig_nbformat": 4
 },
 "nbformat": 4,
 "nbformat_minor": 2
}
