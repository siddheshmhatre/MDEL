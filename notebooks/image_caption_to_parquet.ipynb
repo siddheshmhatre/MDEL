{
 "cells": [
  {
   "cell_type": "code",
   "execution_count": 14,
   "metadata": {},
   "outputs": [],
   "source": [
    "import boto3\n",
    "import io\n",
    "import pandas as pd\n",
    "pd.set_option('display.max_colwidth', 100)"
   ]
  },
  {
   "cell_type": "code",
   "execution_count": 19,
   "metadata": {},
   "outputs": [],
   "source": [
    "def read_parquet_from_s3(filepath, bucket='s-laion', s3=boto3.resource('s3')):\n",
    "    buffer = io.BytesIO()\n",
    "    object = s3.Object(bucket, filepath)\n",
    "    object.download_fileobj(buffer)\n",
    "    df = pd.read_parquet(buffer)\n",
    "\n",
    "    return df\n",
    "\n",
    "def get_filepaths(bucket='s-laion', prefix=\"vit-h-14-embeddings/metadata\", s3=boto3.resource('s3')):\n",
    "    bucket = s3.Bucket(bucket)\n",
    "    filepaths = [obj.key for obj in bucket.objects.filter(Prefix=prefix)]\n",
    "\n",
    "    return filepaths"
   ]
  },
  {
   "cell_type": "code",
   "execution_count": 20,
   "metadata": {},
   "outputs": [],
   "source": [
    "from tqdm import tqdm\n",
    "\n",
    "def get_max_size_df_from_s3(bucket, prefix=\"vit-h-14-embeddings/metadata\", s3=boto3.resource('s3')):\n",
    "    filepaths = get_filepaths(s3, bucket, prefix)\n",
    "\n",
    "    max_size = -float('inf')\n",
    "\n",
    "    for filepath in tqdm(filepaths):\n",
    "        df = read_parquet_from_s3(filepath)\n",
    "        if df.shape[0] > max_size:\n",
    "            max_size = df.shape[0]\n",
    "\n",
    "    return max_size"
   ]
  },
  {
   "cell_type": "code",
   "execution_count": 18,
   "metadata": {},
   "outputs": [
    {
     "name": "stderr",
     "output_type": "stream",
     "text": [
      "100%|██████████| 10/10 [00:32<00:00,  3.25s/it]\n"
     ]
    }
   ],
   "source": [
    "max_size = get_max_size_df_from_s3('s-laion')"
   ]
  },
  {
   "cell_type": "code",
   "execution_count": 34,
   "metadata": {},
   "outputs": [],
   "source": [
    "filepaths = get_filepaths()\n",
    "index = 10\n",
    "df = read_parquet_from_s3(filepaths[index])"
   ]
  },
  {
   "cell_type": "code",
   "execution_count": 35,
   "metadata": {},
   "outputs": [],
   "source": [
    "df['text_list'] = df['caption'].apply(lambda x: [\"This\",  f\"has the caption {x}\"])"
   ]
  },
  {
   "cell_type": "code",
   "execution_count": 36,
   "metadata": {},
   "outputs": [],
   "source": [
    "df['image_info'] = df.apply(lambda x: [{\"image_name\": x['key'], \"raw_url\": x['url'], \"matched_text_index\": 1, \"NSFW\": x['NSFW'], \"similarity_matrix\": [x['similarity']], \"width\": x['width'], \"height\": x['height']}], axis=1)"
   ]
  },
  {
   "cell_type": "code",
   "execution_count": 37,
   "metadata": {},
   "outputs": [],
   "source": [
    "df[\"image_index\"] = -(index * max_size + df.reset_index().index)"
   ]
  },
  {
   "cell_type": "code",
   "execution_count": 38,
   "metadata": {},
   "outputs": [
    {
     "data": {
      "text/html": [
       "<div>\n",
       "<style scoped>\n",
       "    .dataframe tbody tr th:only-of-type {\n",
       "        vertical-align: middle;\n",
       "    }\n",
       "\n",
       "    .dataframe tbody tr th {\n",
       "        vertical-align: top;\n",
       "    }\n",
       "\n",
       "    .dataframe thead th {\n",
       "        text-align: right;\n",
       "    }\n",
       "</style>\n",
       "<table border=\"1\" class=\"dataframe\">\n",
       "  <thead>\n",
       "    <tr style=\"text-align: right;\">\n",
       "      <th></th>\n",
       "      <th>text_list</th>\n",
       "      <th>image_info</th>\n",
       "      <th>image_index</th>\n",
       "    </tr>\n",
       "  </thead>\n",
       "  <tbody>\n",
       "    <tr>\n",
       "      <th>0</th>\n",
       "      <td>[This, has the caption police captain resume example http www resumecareer info]</td>\n",
       "      <td>[{'image_name': '2082700000', 'raw_url': 'http://t0.gstatic.com/images?q=tbn:ANd9GcSQmh7MwpaApmW...</td>\n",
       "      <td>-9389070</td>\n",
       "    </tr>\n",
       "    <tr>\n",
       "      <th>1</th>\n",
       "      <td>[This, has the caption Crock Pot Dressing For Thanksgiving Crockpot Corn Bread Stuffing Recipe A...</td>\n",
       "      <td>[{'image_name': '2082700021', 'raw_url': 'http://t0.gstatic.com/images?q=tbn:ANd9GcRtsWXOOj7CDNz...</td>\n",
       "      <td>-9389071</td>\n",
       "    </tr>\n",
       "    <tr>\n",
       "      <th>2</th>\n",
       "      <td>[This, has the caption Ship ashore - Dilapidated old ship run aground.]</td>\n",
       "      <td>[{'image_name': '2082700045', 'raw_url': 'https://cdn.xxl.thumbs.canstockphoto.com/ship-ashore-d...</td>\n",
       "      <td>-9389072</td>\n",
       "    </tr>\n",
       "    <tr>\n",
       "      <th>3</th>\n",
       "      <td>[This, has the caption Portrait Of Young Man Cleaning The Floor With Mop In Office Stok Fotoğraf]</td>\n",
       "      <td>[{'image_name': '2082700022', 'raw_url': 'https://us.123rf.com/450wm/andreypopov/andreypopov1311...</td>\n",
       "      <td>-9389073</td>\n",
       "    </tr>\n",
       "    <tr>\n",
       "      <th>4</th>\n",
       "      <td>[This, has the caption Linon 62 Inch Linen Tufted Bench]</td>\n",
       "      <td>[{'image_name': '2082700047', 'raw_url': 'https://ak1.ostkcdn.com/images/products/9303659/P16465...</td>\n",
       "      <td>-9389074</td>\n",
       "    </tr>\n",
       "  </tbody>\n",
       "</table>\n",
       "</div>"
      ],
      "text/plain": [
       "                                                                                             text_list   \n",
       "0                     [This, has the caption police captain resume example http www resumecareer info]  \\\n",
       "1  [This, has the caption Crock Pot Dressing For Thanksgiving Crockpot Corn Bread Stuffing Recipe A...   \n",
       "2                              [This, has the caption Ship ashore - Dilapidated old ship run aground.]   \n",
       "3    [This, has the caption Portrait Of Young Man Cleaning The Floor With Mop In Office Stok Fotoğraf]   \n",
       "4                                             [This, has the caption Linon 62 Inch Linen Tufted Bench]   \n",
       "\n",
       "                                                                                            image_info   \n",
       "0  [{'image_name': '2082700000', 'raw_url': 'http://t0.gstatic.com/images?q=tbn:ANd9GcSQmh7MwpaApmW...  \\\n",
       "1  [{'image_name': '2082700021', 'raw_url': 'http://t0.gstatic.com/images?q=tbn:ANd9GcRtsWXOOj7CDNz...   \n",
       "2  [{'image_name': '2082700045', 'raw_url': 'https://cdn.xxl.thumbs.canstockphoto.com/ship-ashore-d...   \n",
       "3  [{'image_name': '2082700022', 'raw_url': 'https://us.123rf.com/450wm/andreypopov/andreypopov1311...   \n",
       "4  [{'image_name': '2082700047', 'raw_url': 'https://ak1.ostkcdn.com/images/products/9303659/P16465...   \n",
       "\n",
       "   image_index  \n",
       "0     -9389070  \n",
       "1     -9389071  \n",
       "2     -9389072  \n",
       "3     -9389073  \n",
       "4     -9389074  "
      ]
     },
     "execution_count": 38,
     "metadata": {},
     "output_type": "execute_result"
    }
   ],
   "source": [
    "df[['text_list', 'image_info', 'image_index']].head()"
   ]
  }
 ],
 "metadata": {
  "kernelspec": {
   "display_name": ".venv",
   "language": "python",
   "name": "python3"
  },
  "language_info": {
   "codemirror_mode": {
    "name": "ipython",
    "version": 3
   },
   "file_extension": ".py",
   "mimetype": "text/x-python",
   "name": "python",
   "nbconvert_exporter": "python",
   "pygments_lexer": "ipython3",
   "version": "3.8.15"
  },
  "orig_nbformat": 4
 },
 "nbformat": 4,
 "nbformat_minor": 2
}
