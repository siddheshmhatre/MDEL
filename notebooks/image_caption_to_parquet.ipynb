{
 "cells": [
  {
   "cell_type": "code",
   "execution_count": 1,
   "metadata": {},
   "outputs": [],
   "source": [
    "import pandas as pd\n",
    "pd.set_option('display.max_colwidth', 100)"
   ]
  },
  {
   "cell_type": "code",
   "execution_count": 2,
   "metadata": {},
   "outputs": [],
   "source": [
    "import os\n",
    "\n",
    "data_folder = None\n",
    "\n",
    "parquet_filename = None\n",
    "\n",
    "parquet_filenpath = os.path.join(data_folder, parquet_filename)"
   ]
  },
  {
   "cell_type": "code",
   "execution_count": null,
   "metadata": {},
   "outputs": [],
   "source": [
    "df = pd.read_parquet(parquet_filenpath)"
   ]
  },
  {
   "cell_type": "code",
   "execution_count": 7,
   "metadata": {},
   "outputs": [],
   "source": [
    "df['text_list'] = df['caption'].apply(lambda x: [\"This\",  f\"has the caption {x}\"])"
   ]
  },
  {
   "cell_type": "code",
   "execution_count": 8,
   "metadata": {},
   "outputs": [],
   "source": [
    "df['image_info'] = df.apply(lambda x: [{\"image_name\": x['key'], \"raw_url\": x['url'], \"matched_text_index\": 1, \"NSFW\": x['NSFW'], \"similarity_matrix\": [x['similarity']], \"width\": x['width'], \"height\": x['height']}], axis=1)"
   ]
  },
  {
   "cell_type": "code",
   "execution_count": 15,
   "metadata": {},
   "outputs": [
    {
     "data": {
      "text/html": [
       "<div>\n",
       "<style scoped>\n",
       "    .dataframe tbody tr th:only-of-type {\n",
       "        vertical-align: middle;\n",
       "    }\n",
       "\n",
       "    .dataframe tbody tr th {\n",
       "        vertical-align: top;\n",
       "    }\n",
       "\n",
       "    .dataframe thead th {\n",
       "        text-align: right;\n",
       "    }\n",
       "</style>\n",
       "<table border=\"1\" class=\"dataframe\">\n",
       "  <thead>\n",
       "    <tr style=\"text-align: right;\">\n",
       "      <th></th>\n",
       "      <th>text_list</th>\n",
       "      <th>image_info</th>\n",
       "    </tr>\n",
       "  </thead>\n",
       "  <tbody>\n",
       "    <tr>\n",
       "      <th>0</th>\n",
       "      <td>[This, has the caption 44 Mountain View Avenue, Avondale Heights, Vic 3034]</td>\n",
       "      <td>[{'image_name': '2104390003', 'raw_url': 'https://i3.au.reastatic.net/640x480/e81db6a1430121c2dd...</td>\n",
       "    </tr>\n",
       "    <tr>\n",
       "      <th>1</th>\n",
       "      <td>[This, has the caption maximize your workbench 10 steps]</td>\n",
       "      <td>[{'image_name': '2104390010', 'raw_url': 'http://t0.gstatic.com/images?q=tbn:ANd9GcTX1DenlRvj9Ir...</td>\n",
       "    </tr>\n",
       "    <tr>\n",
       "      <th>2</th>\n",
       "      <td>[This, has the caption SUNSEEKER 50 CAMARGUE for sale in France for €210,000 (£187,669)]</td>\n",
       "      <td>[{'image_name': '2104390024', 'raw_url': 'https://d2qh54gyqi6t5f.cloudfront.net/boat_images/4/47...</td>\n",
       "    </tr>\n",
       "    <tr>\n",
       "      <th>3</th>\n",
       "      <td>[This, has the caption Handmade Vegetable Tanned Full Grain Leather Simple Tote Bag - Blue Sebe ...</td>\n",
       "      <td>[{'image_name': '2104390021', 'raw_url': 'https://cdn.shopify.com/s/files/1/1947/0171/products/Z...</td>\n",
       "    </tr>\n",
       "    <tr>\n",
       "      <th>4</th>\n",
       "      <td>[This, has the caption Chicco Papyrus travel system for transitional stage between KeyFit Carrie...</td>\n",
       "      <td>[{'image_name': '2104390034', 'raw_url': 'http://demandware.edgesuite.net/sits_pod22/dw/image/v2...</td>\n",
       "    </tr>\n",
       "  </tbody>\n",
       "</table>\n",
       "</div>"
      ],
      "text/plain": [
       "                                                                                             text_list   \n",
       "0                          [This, has the caption 44 Mountain View Avenue, Avondale Heights, Vic 3034]  \\\n",
       "1                                             [This, has the caption maximize your workbench 10 steps]   \n",
       "2             [This, has the caption SUNSEEKER 50 CAMARGUE for sale in France for €210,000 (£187,669)]   \n",
       "3  [This, has the caption Handmade Vegetable Tanned Full Grain Leather Simple Tote Bag - Blue Sebe ...   \n",
       "4  [This, has the caption Chicco Papyrus travel system for transitional stage between KeyFit Carrie...   \n",
       "\n",
       "                                                                                            image_info  \n",
       "0  [{'image_name': '2104390003', 'raw_url': 'https://i3.au.reastatic.net/640x480/e81db6a1430121c2dd...  \n",
       "1  [{'image_name': '2104390010', 'raw_url': 'http://t0.gstatic.com/images?q=tbn:ANd9GcTX1DenlRvj9Ir...  \n",
       "2  [{'image_name': '2104390024', 'raw_url': 'https://d2qh54gyqi6t5f.cloudfront.net/boat_images/4/47...  \n",
       "3  [{'image_name': '2104390021', 'raw_url': 'https://cdn.shopify.com/s/files/1/1947/0171/products/Z...  \n",
       "4  [{'image_name': '2104390034', 'raw_url': 'http://demandware.edgesuite.net/sits_pod22/dw/image/v2...  "
      ]
     },
     "execution_count": 15,
     "metadata": {},
     "output_type": "execute_result"
    }
   ],
   "source": [
    "df[['text_list', 'image_info']].head()"
   ]
  }
 ],
 "metadata": {
  "kernelspec": {
   "display_name": ".venv",
   "language": "python",
   "name": "python3"
  },
  "language_info": {
   "codemirror_mode": {
    "name": "ipython",
    "version": 3
   },
   "file_extension": ".py",
   "mimetype": "text/x-python",
   "name": "python",
   "nbconvert_exporter": "python",
   "pygments_lexer": "ipython3",
   "version": "3.8.10"
  },
  "orig_nbformat": 4
 },
 "nbformat": 4,
 "nbformat_minor": 2
}
