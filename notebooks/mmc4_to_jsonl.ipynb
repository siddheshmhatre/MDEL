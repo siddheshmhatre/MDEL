{
 "cells": [
  {
   "cell_type": "code",
   "execution_count": 17,
   "metadata": {},
   "outputs": [],
   "source": [
    "import os\n",
    "import json\n",
    "import numpy as np\n",
    "from tqdm import tqdm"
   ]
  },
  {
   "cell_type": "code",
   "execution_count": 21,
   "metadata": {},
   "outputs": [],
   "source": [
    "def convert_mmc4_shard(jsonl_filepath, embed_filepath, shard_index, dataset):\n",
    "    # Pre-allocate np array\n",
    "\tembed_dict = np.load(embed_filepath, allow_pickle=True)\n",
    "\tnum_rows = len(embed_dict)\n",
    "\tnum_cols = embed_dict[list(embed_dict.keys())[0]].shape[0]\n",
    "\tembeddings = np.zeros((num_rows, num_cols))\n",
    "\n",
    "\t# Create map from image id to index\n",
    "\timage_id_to_index = {}\n",
    "\n",
    "\t# Load jsonl file\n",
    "\tjsonl_list = []\n",
    "\twith open(jsonl_filepath, 'r') as f:\n",
    "\t\t# Iterate over jsonl file\n",
    "\t\tfor idx, line in tqdm(enumerate(f.readlines())):\n",
    "\t\t\tdata = json.loads(line)\n",
    "\n",
    "\t\t\ttext_list = data['text_list']\n",
    "\n",
    "\t\t\t# Get image id\n",
    "\t\t\tfor image in data['image_info']:\n",
    "\t\t\t\timage_name = image['image_name']\n",
    "\n",
    "\t\t\t\t# Get image index if image id in map\n",
    "\t\t\t\timage_index = image_id_to_index.get(image_name, None)\n",
    "\n",
    "\t\t\t\t# If image id not in map, add to map and add to embeddings\n",
    "\t\t\t\tif image_index is None:\n",
    "\t\t\t\t\timage_index = len(image_id_to_index)\n",
    "\t\t\t\t\timage_id_to_index[image_name] = image_index\n",
    "\t\t\t\t\tembeddings[len(image_id_to_index) - 1] = embed_dict[image_name]\n",
    "\n",
    "\t\t\t\ttext_list.insert(image['matched_index'], f\"<image><<{shard_index},{image_index},{dataset},image>></image>\")\n",
    "\n",
    "\t\t\ttext = \" \".join(text_list)\n",
    "\n",
    "\t\t\t# Add to jsonl list\n",
    "\t\t\tdata['text'] = text\n",
    "\t\t\tjsonl_list.append(data)\n",
    "\n",
    "\t# Return new jsonl file and embeddings array\n",
    "\treturn jsonl_list, embeddings"
   ]
  },
  {
   "cell_type": "code",
   "execution_count": 22,
   "metadata": {},
   "outputs": [],
   "source": [
    "mmc4_data_dir ='/path/to/mmc4/'\n",
    "jsonl_filepath = os.path.join(mmc4_data_dir, 'docs_no_face_shard_0_v2.jsonl')\n",
    "embed_filepath = os.path.join(mmc4_data_dir, \"clip_vitl14_shard_0_features.pkl\")"
   ]
  },
  {
   "cell_type": "code",
   "execution_count": 26,
   "metadata": {},
   "outputs": [
    {
     "name": "stderr",
     "output_type": "stream",
     "text": [
      "3001it [00:00, 14339.46it/s]\n"
     ]
    }
   ],
   "source": [
    "new_jsonl_list, embed = convert_mmc4_shard(jsonl_filepath, embed_filepath, 0, 'mmc4')"
   ]
  },
  {
   "cell_type": "code",
   "execution_count": 31,
   "metadata": {},
   "outputs": [],
   "source": [
    "original_jsonl = open(jsonl_filepath, 'r').readlines()\n",
    "original_embed = np.load(embed_filepath, allow_pickle=True)\n",
    "assert(len(new_jsonl_list) == len(f))\n",
    "assert(embed.shape[0] == len(original_embed.keys()))"
   ]
  }
 ],
 "metadata": {
  "kernelspec": {
   "display_name": ".venv",
   "language": "python",
   "name": "python3"
  },
  "language_info": {
   "codemirror_mode": {
    "name": "ipython",
    "version": 3
   },
   "file_extension": ".py",
   "mimetype": "text/x-python",
   "name": "python",
   "nbconvert_exporter": "python",
   "pygments_lexer": "ipython3",
   "version": "3.8.10"
  },
  "orig_nbformat": 4
 },
 "nbformat": 4,
 "nbformat_minor": 2
}
